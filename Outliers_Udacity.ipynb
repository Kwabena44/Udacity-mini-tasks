{
 "cells": [
  {
   "cell_type": "code",
   "execution_count": 3,
   "metadata": {
    "id": "4-jG3pkTsaM-"
   },
   "outputs": [],
   "source": [
    "data =  \"/content/gdrive/My Drive/outliers/practice_outliers_ages.pkl\""
   ]
  },
  {
   "cell_type": "code",
   "execution_count": 4,
   "metadata": {
    "id": "oUBMvgafskmw"
   },
   "outputs": [],
   "source": [
    "data1 = \"/content/gdrive/My Drive/outliers/practice_outliers_net_worths.pkl\""
   ]
  },
  {
   "cell_type": "code",
   "execution_count": 5,
   "metadata": {
    "id": "LKB8jjnEtHiQ"
   },
   "outputs": [],
   "source": [
    "import pandas as pd\n",
    "import pickle\n",
    "import random\n",
    "import numpy as np\n",
    "import matplotlib.pyplot as plt\n",
    "import warnings \n",
    "warnings.filterwarnings('ignore')\n",
    "import numpy "
   ]
  },
  {
   "cell_type": "code",
   "execution_count": 6,
   "metadata": {
    "id": "0iCUYa5StRk-"
   },
   "outputs": [],
   "source": [
    "ages = pd.read_pickle(data)\n",
    "net_worths = pd.read_pickle(data1)"
   ]
  },
  {
   "cell_type": "code",
   "execution_count": 7,
   "metadata": {
    "id": "ntucGubrtet8"
   },
   "outputs": [],
   "source": [
    "def outlierCleaner(predictions, ages, net_worths):\n",
    "    \"\"\"\n",
    "        Clean away the 10% of points that have the largest\n",
    "        residual errors (difference between the prediction\n",
    "        and the actual net worth).\n",
    "\n",
    "        Return a list of tuples named cleaned_data where \n",
    "        each tuple is of the form (age, net_worth, error).\n",
    "    \"\"\"\n",
    "    \n",
    "\n",
    "    data = []\n",
    "    size = len(predictions)\n",
    "    for i in range(size):\n",
    "        error = (predictions[i][0] - net_worths[i][0]) * (predictions[i][0] - net_worths[i][0])\n",
    "        data.append((ages[i][0],\n",
    "                     net_worths[i][0],\n",
    "                     error))\n",
    "\n",
    "\n",
    "    data.sort(key=lambda tup: tup[2])\n",
    "   \n",
    "    cleaned_data = data[:81]\n",
    "\n",
    "    return cleaned_data\n",
    "\n",
    "    "
   ]
  },
  {
   "cell_type": "code",
   "execution_count": 8,
   "metadata": {
    "id": "0vPqikXJvlNF"
   },
   "outputs": [],
   "source": [
    "x = ages\n",
    "y = net_worths"
   ]
  },
  {
   "cell_type": "code",
   "execution_count": 9,
   "metadata": {
    "id": "aFkOq8cV8OUR"
   },
   "outputs": [],
   "source": [
    "### ages and net_worths need to be reshaped into 2D numpy arrays\n",
    "### second argument of reshape command is a tuple of integers: (n_rows, n_columns)\n",
    "### by convention, n_rows is the number of data points\n",
    "### and n_columns is the number of features\n",
    "x = numpy.reshape( numpy.array(x), (len(x), 1))\n",
    "y = numpy.reshape( numpy.array(y), (len(y), 1))\n",
    "from sklearn.model_selection import train_test_split\n",
    "X_train, X_test, y_train, y_test = train_test_split(x, y, test_size=0.1, random_state=42)"
   ]
  },
  {
   "cell_type": "code",
   "execution_count": 10,
   "metadata": {
    "colab": {
     "base_uri": "https://localhost:8080/"
    },
    "id": "zyCZnECe9JQ6",
    "outputId": "f95ff1a5-4857-43a7-b623-6a618899015b"
   },
   "outputs": [
    {
     "name": "stdout",
     "output_type": "stream",
     "text": [
      "[[5.07793064]]\n",
      "0.8782624703664671\n"
     ]
    }
   ],
   "source": [
    "### fill in a regression here!  Name the regression object reg so that\n",
    "### the plotting code below works, and you can see what your regression looks like\n",
    "\n",
    "\n",
    "from sklearn import linear_model\n",
    "reg = linear_model.LinearRegression()\n",
    "reg.fit(X_train, y_train)\n",
    "print(reg.coef_)\n",
    "print(reg.score(X_test, y_test))\n",
    "\n"
   ]
  },
  {
   "cell_type": "code",
   "execution_count": 11,
   "metadata": {
    "id": "yvQnLmZM9n6K"
   },
   "outputs": [],
   "source": [
    "import seaborn as sns"
   ]
  },
  {
   "cell_type": "code",
   "execution_count": 12,
   "metadata": {
    "colab": {
     "base_uri": "https://localhost:8080/",
     "height": 295
    },
    "id": "P3FBEiZq9j7W",
    "outputId": "d4ecdde7-c0e8-4817-bf30-e745e0f7d77c"
   },
   "outputs": [
    {
     "data": {
      "image/png": "[encoded data removed]",
      "text/plain": [
       "<Figure size 432x288 with 1 Axes>"
      ]
     },
     "metadata": {
      "needs_background": "light",
      "tags": []
     },
     "output_type": "display_data"
    }
   ],
   "source": [
    "try:\n",
    "    plt.plot(x, reg.predict(x), color=\"blue\")\n",
    "except NameError:\n",
    "    pass\n",
    "except NameError:\n",
    "    pass\n",
    "plt.scatter(x,y)\n",
    "plt.title('Ages vs Net Worth')\n",
    "# Set x-axis label\n",
    "plt.xlabel('Ages')\n",
    "# Set y-axis label\n",
    "plt.ylabel('Net Worth')\n",
    "plt.show()"
   ]
  },
  {
   "cell_type": "code",
   "execution_count": 13,
   "metadata": {
    "id": "tOSwJjsv_ePp"
   },
   "outputs": [],
   "source": [
    "### identify and remove the most outlier-y points\n",
    "cleaned_data = []\n",
    "try:\n",
    "    predictions = reg.predict(X_train)\n",
    "    cleaned_data = outlierCleaner( predictions, X_train, y_train )\n",
    "except NameError:\n",
    "    print(\"your regression object doesn't exist, or isn't name reg\")\n",
    "    print(\"can't make predictions to use in identifying outliers\")\n"
   ]
  },
  {
   "cell_type": "code",
   "execution_count": 14,
   "metadata": {
    "colab": {
     "base_uri": "https://localhost:8080/",
     "height": 296
    },
    "id": "RImNU-HaATpS",
    "outputId": "d5dd2c57-9e7a-45f1-845b-e9b28a1e1a36"
   },
   "outputs": [
    {
     "name": "stdout",
     "output_type": "stream",
     "text": [
      "0.8975773446126575\n"
     ]
    },
    {
     "data": {
      "image/png": "[encoded data removed]",
      "text/plain": [
       "<Figure size 432x288 with 1 Axes>"
      ]
     },
     "metadata": {
      "needs_background": "light",
      "tags": []
     },
     "output_type": "display_data"
    }
   ],
   "source": [
    "### only run this code if cleaned_data is returning data\n",
    "if len(cleaned_data) > 0:\n",
    "    x, y, errors = zip(*cleaned_data)\n",
    "    x       = numpy.reshape( numpy.array(ages), (len(ages), 1))\n",
    "    y = numpy.reshape( numpy.array(net_worths), (len(net_worths), 1))\n",
    "\n",
    "    ### refit your cleaned data!\n",
    "    try:\n",
    "        reg.fit(x, y)\n",
    "        print(reg.score(X_test, y_test))\n",
    "        plt.plot(x, reg.predict(x), color=\"blue\")\n",
    "    except NameError:\n",
    "        print(\"you don't seem to have regression imported/created,\")\n",
    "        print(\"or else your regression object isn't named reg\")\n",
    "        print(\"either way, only draw the scatter plot of the cleaned data\")\n",
    "    plt.scatter(x, y)\n",
    "    plt.xlabel(\"ages\")\n",
    "    plt.ylabel(\"net worths\")\n",
    "    plt.show()\n",
    "\n",
    "else:\n",
    "    print(\"outlierCleaner() is returning an empty list, no refitting to be done\")"
   ]
  }
 ],
 "metadata": {
  "colab": {
   "collapsed_sections": [],
   "name": "Outliers Udacity.ipynb",
   "provenance": []
  },
  "kernelspec": {
   "display_name": "Python 3",
   "language": "python",
   "name": "python3"
  },
  "language_info": {
   "codemirror_mode": {
    "name": "ipython",
    "version": 3
   },
   "file_extension": ".py",
   "mimetype": "text/x-python",
   "name": "python",
   "nbconvert_exporter": "python",
   "pygments_lexer": "ipython3",
   "version": "3.8.3"
  }
 },
 "nbformat": 4,
 "nbformat_minor": 1
}
