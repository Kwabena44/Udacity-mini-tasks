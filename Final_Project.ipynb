{
  "nbformat": 4,
  "nbformat_minor": 0,
  "metadata": {
    "colab": {
      "name": "Final Project.ipynb",
      "provenance": []
    },
    "kernelspec": {
      "name": "python3",
      "display_name": "Python 3"
    }
  },
  "cells": [
    {
      "cell_type": "code",
      "metadata": {
        "id": "q81RLAXo_0Q-"
      },
      "source": [
        "from google.colab import drive"
      ],
      "execution_count": 1,
      "outputs": []
    },
    {
      "cell_type": "code",
      "metadata": {
        "colab": {
          "base_uri": "https://localhost:8080/"
        },
        "id": "F9DyvOcOAS5r",
        "outputId": "e1733282-0d6e-4731-a44b-acdea2844763"
      },
      "source": [
        "drive.mount('/content/gdrive')"
      ],
      "execution_count": 2,
      "outputs": [
        {
          "output_type": "stream",
          "text": [
            "Mounted at /content/gdrive\n"
          ],
          "name": "stdout"
        }
      ]
    },
    {
      "cell_type": "code",
      "metadata": {
        "id": "Bn8RQ6oSAkTI"
      },
      "source": [
        "import numpy as np\r\n",
        "import pandas as pd\r\n",
        "from sklearn.model_selection import train_test_split\r\n",
        "import matplotlib.pyplot as plt\r\n",
        "import pickle\r\n",
        "import warnings \r\n",
        "warnings.filterwarnings('ignore')"
      ],
      "execution_count": 3,
      "outputs": []
    },
    {
      "cell_type": "code",
      "metadata": {
        "id": "O-NRxWQKArRo"
      },
      "source": [
        "data1 =  \"/content/gdrive/My Drive/final_project_dataset.pkl\""
      ],
      "execution_count": 4,
      "outputs": []
    },
    {
      "cell_type": "code",
      "metadata": {
        "id": "CGWmTNXAAwfg"
      },
      "source": [
        "data_dict = pd.read_pickle(data1)"
      ],
      "execution_count": 5,
      "outputs": []
    },
    {
      "cell_type": "code",
      "metadata": {
        "colab": {
          "base_uri": "https://localhost:8080/"
        },
        "id": "HWrXaTB9A0nZ",
        "outputId": "e0035e4b-e95f-453f-9207-5b28f09cb85b"
      },
      "source": [
        "# For each person, how many features are available?\r\n",
        "e_list = list(data_dict.values())[0]\r\n",
        "e_list"
      ],
      "execution_count": 6,
      "outputs": [
        {
          "output_type": "execute_result",
          "data": {
            "text/plain": [
              "{'bonus': 600000,\n",
              " 'deferral_payments': 'NaN',\n",
              " 'deferred_income': 'NaN',\n",
              " 'director_fees': 'NaN',\n",
              " 'email_address': 'mark.metts@enron.com',\n",
              " 'exercised_stock_options': 'NaN',\n",
              " 'expenses': 94299,\n",
              " 'from_messages': 29,\n",
              " 'from_poi_to_this_person': 38,\n",
              " 'from_this_person_to_poi': 1,\n",
              " 'loan_advances': 'NaN',\n",
              " 'long_term_incentive': 'NaN',\n",
              " 'other': 1740,\n",
              " 'poi': False,\n",
              " 'restricted_stock': 585062,\n",
              " 'restricted_stock_deferred': 'NaN',\n",
              " 'salary': 365788,\n",
              " 'shared_receipt_with_poi': 702,\n",
              " 'to_messages': 807,\n",
              " 'total_payments': 1061827,\n",
              " 'total_stock_value': 585062}"
            ]
          },
          "metadata": {
            "tags": []
          },
          "execution_count": 6
        }
      ]
    },
    {
      "cell_type": "code",
      "metadata": {
        "colab": {
          "base_uri": "https://localhost:8080/",
          "height": 326
        },
        "id": "pJp_gGOBA2wh",
        "outputId": "f8d3e315-4621-4071-efb0-9b5b9ebd0c67"
      },
      "source": [
        "#creating dataframe\r\n",
        "Df = pd.DataFrame.from_dict(data_dict, orient='index')\r\n",
        "Df.head()"
      ],
      "execution_count": 7,
      "outputs": [
        {
          "output_type": "execute_result",
          "data": {
            "text/html": [
              "<div>\n",
              "<style scoped>\n",
              "    .dataframe tbody tr th:only-of-type {\n",
              "        vertical-align: middle;\n",
              "    }\n",
              "\n",
              "    .dataframe tbody tr th {\n",
              "        vertical-align: top;\n",
              "    }\n",
              "\n",
              "    .dataframe thead th {\n",
              "        text-align: right;\n",
              "    }\n",
              "</style>\n",
              "<table border=\"1\" class=\"dataframe\">\n",
              "  <thead>\n",
              "    <tr style=\"text-align: right;\">\n",
              "      <th></th>\n",
              "      <th>salary</th>\n",
              "      <th>to_messages</th>\n",
              "      <th>deferral_payments</th>\n",
              "      <th>total_payments</th>\n",
              "      <th>loan_advances</th>\n",
              "      <th>bonus</th>\n",
              "      <th>email_address</th>\n",
              "      <th>restricted_stock_deferred</th>\n",
              "      <th>deferred_income</th>\n",
              "      <th>total_stock_value</th>\n",
              "      <th>expenses</th>\n",
              "      <th>from_poi_to_this_person</th>\n",
              "      <th>exercised_stock_options</th>\n",
              "      <th>from_messages</th>\n",
              "      <th>other</th>\n",
              "      <th>from_this_person_to_poi</th>\n",
              "      <th>poi</th>\n",
              "      <th>long_term_incentive</th>\n",
              "      <th>shared_receipt_with_poi</th>\n",
              "      <th>restricted_stock</th>\n",
              "      <th>director_fees</th>\n",
              "    </tr>\n",
              "  </thead>\n",
              "  <tbody>\n",
              "    <tr>\n",
              "      <th>METTS MARK</th>\n",
              "      <td>365788</td>\n",
              "      <td>807</td>\n",
              "      <td>NaN</td>\n",
              "      <td>1061827</td>\n",
              "      <td>NaN</td>\n",
              "      <td>600000</td>\n",
              "      <td>mark.metts@enron.com</td>\n",
              "      <td>NaN</td>\n",
              "      <td>NaN</td>\n",
              "      <td>585062</td>\n",
              "      <td>94299</td>\n",
              "      <td>38</td>\n",
              "      <td>NaN</td>\n",
              "      <td>29</td>\n",
              "      <td>1740</td>\n",
              "      <td>1</td>\n",
              "      <td>False</td>\n",
              "      <td>NaN</td>\n",
              "      <td>702</td>\n",
              "      <td>585062</td>\n",
              "      <td>NaN</td>\n",
              "    </tr>\n",
              "    <tr>\n",
              "      <th>BAXTER JOHN C</th>\n",
              "      <td>267102</td>\n",
              "      <td>NaN</td>\n",
              "      <td>1295738</td>\n",
              "      <td>5634343</td>\n",
              "      <td>NaN</td>\n",
              "      <td>1200000</td>\n",
              "      <td>NaN</td>\n",
              "      <td>NaN</td>\n",
              "      <td>-1386055</td>\n",
              "      <td>10623258</td>\n",
              "      <td>11200</td>\n",
              "      <td>NaN</td>\n",
              "      <td>6680544</td>\n",
              "      <td>NaN</td>\n",
              "      <td>2660303</td>\n",
              "      <td>NaN</td>\n",
              "      <td>False</td>\n",
              "      <td>1586055</td>\n",
              "      <td>NaN</td>\n",
              "      <td>3942714</td>\n",
              "      <td>NaN</td>\n",
              "    </tr>\n",
              "    <tr>\n",
              "      <th>ELLIOTT STEVEN</th>\n",
              "      <td>170941</td>\n",
              "      <td>NaN</td>\n",
              "      <td>NaN</td>\n",
              "      <td>211725</td>\n",
              "      <td>NaN</td>\n",
              "      <td>350000</td>\n",
              "      <td>steven.elliott@enron.com</td>\n",
              "      <td>NaN</td>\n",
              "      <td>-400729</td>\n",
              "      <td>6678735</td>\n",
              "      <td>78552</td>\n",
              "      <td>NaN</td>\n",
              "      <td>4890344</td>\n",
              "      <td>NaN</td>\n",
              "      <td>12961</td>\n",
              "      <td>NaN</td>\n",
              "      <td>False</td>\n",
              "      <td>NaN</td>\n",
              "      <td>NaN</td>\n",
              "      <td>1788391</td>\n",
              "      <td>NaN</td>\n",
              "    </tr>\n",
              "    <tr>\n",
              "      <th>CORDES WILLIAM R</th>\n",
              "      <td>NaN</td>\n",
              "      <td>764</td>\n",
              "      <td>NaN</td>\n",
              "      <td>NaN</td>\n",
              "      <td>NaN</td>\n",
              "      <td>NaN</td>\n",
              "      <td>bill.cordes@enron.com</td>\n",
              "      <td>NaN</td>\n",
              "      <td>NaN</td>\n",
              "      <td>1038185</td>\n",
              "      <td>NaN</td>\n",
              "      <td>10</td>\n",
              "      <td>651850</td>\n",
              "      <td>12</td>\n",
              "      <td>NaN</td>\n",
              "      <td>0</td>\n",
              "      <td>False</td>\n",
              "      <td>NaN</td>\n",
              "      <td>58</td>\n",
              "      <td>386335</td>\n",
              "      <td>NaN</td>\n",
              "    </tr>\n",
              "    <tr>\n",
              "      <th>HANNON KEVIN P</th>\n",
              "      <td>243293</td>\n",
              "      <td>1045</td>\n",
              "      <td>NaN</td>\n",
              "      <td>288682</td>\n",
              "      <td>NaN</td>\n",
              "      <td>1500000</td>\n",
              "      <td>kevin.hannon@enron.com</td>\n",
              "      <td>NaN</td>\n",
              "      <td>-3117011</td>\n",
              "      <td>6391065</td>\n",
              "      <td>34039</td>\n",
              "      <td>32</td>\n",
              "      <td>5538001</td>\n",
              "      <td>32</td>\n",
              "      <td>11350</td>\n",
              "      <td>21</td>\n",
              "      <td>True</td>\n",
              "      <td>1617011</td>\n",
              "      <td>1035</td>\n",
              "      <td>853064</td>\n",
              "      <td>NaN</td>\n",
              "    </tr>\n",
              "  </tbody>\n",
              "</table>\n",
              "</div>"
            ],
            "text/plain": [
              "                  salary to_messages  ... restricted_stock director_fees\n",
              "METTS MARK        365788         807  ...           585062           NaN\n",
              "BAXTER JOHN C     267102         NaN  ...          3942714           NaN\n",
              "ELLIOTT STEVEN    170941         NaN  ...          1788391           NaN\n",
              "CORDES WILLIAM R     NaN         764  ...           386335           NaN\n",
              "HANNON KEVIN P    243293        1045  ...           853064           NaN\n",
              "\n",
              "[5 rows x 21 columns]"
            ]
          },
          "metadata": {
            "tags": []
          },
          "execution_count": 7
        }
      ]
    },
    {
      "cell_type": "code",
      "metadata": {
        "colab": {
          "base_uri": "https://localhost:8080/"
        },
        "id": "J45MKRSWEqnU",
        "outputId": "83f90090-a995-497d-b41f-b2416e3be71f"
      },
      "source": [
        "Df.info()"
      ],
      "execution_count": 8,
      "outputs": [
        {
          "output_type": "stream",
          "text": [
            "<class 'pandas.core.frame.DataFrame'>\n",
            "Index: 146 entries, METTS MARK to GLISAN JR BEN F\n",
            "Data columns (total 21 columns):\n",
            " #   Column                     Non-Null Count  Dtype \n",
            "---  ------                     --------------  ----- \n",
            " 0   salary                     146 non-null    object\n",
            " 1   to_messages                146 non-null    object\n",
            " 2   deferral_payments          146 non-null    object\n",
            " 3   total_payments             146 non-null    object\n",
            " 4   loan_advances              146 non-null    object\n",
            " 5   bonus                      146 non-null    object\n",
            " 6   email_address              146 non-null    object\n",
            " 7   restricted_stock_deferred  146 non-null    object\n",
            " 8   deferred_income            146 non-null    object\n",
            " 9   total_stock_value          146 non-null    object\n",
            " 10  expenses                   146 non-null    object\n",
            " 11  from_poi_to_this_person    146 non-null    object\n",
            " 12  exercised_stock_options    146 non-null    object\n",
            " 13  from_messages              146 non-null    object\n",
            " 14  other                      146 non-null    object\n",
            " 15  from_this_person_to_poi    146 non-null    object\n",
            " 16  poi                        146 non-null    bool  \n",
            " 17  long_term_incentive        146 non-null    object\n",
            " 18  shared_receipt_with_poi    146 non-null    object\n",
            " 19  restricted_stock           146 non-null    object\n",
            " 20  director_fees              146 non-null    object\n",
            "dtypes: bool(1), object(20)\n",
            "memory usage: 24.1+ KB\n"
          ],
          "name": "stdout"
        }
      ]
    },
    {
      "cell_type": "code",
      "metadata": {
        "id": "_AAiaaf6Ewpc"
      },
      "source": [
        "#total persons of interest\r\n",
        "sum(Df['poi'])"
      ],
      "execution_count": null,
      "outputs": []
    },
    {
      "cell_type": "code",
      "metadata": {
        "id": "KwkPoR3QFHYi"
      },
      "source": [
        "#function to identify percentage of missing data\r\n",
        "def missing_statistics(df):    \r\n",
        "    statitics = pd.DataFrame(df.isnull().sum()).reset_index()\r\n",
        "    statitics.columns=['COLUMN NAME',\"MISSING VALUES\"]\r\n",
        "    statitics['TOTAL ROWS'] = df.shape[0]\r\n",
        "    statitics['% MISSING'] = round((statitics['MISSING VALUES']/statitics['TOTAL ROWS'])*100,2)\r\n",
        "    return statitics"
      ],
      "execution_count": 10,
      "outputs": []
    },
    {
      "cell_type": "code",
      "metadata": {
        "colab": {
          "base_uri": "https://localhost:8080/",
          "height": 700
        },
        "id": "RBBl-RjSFksS",
        "outputId": "eb388168-8bef-4f35-94e0-00e065fa46b6"
      },
      "source": [
        "missing_statistics(Df)"
      ],
      "execution_count": 11,
      "outputs": [
        {
          "output_type": "execute_result",
          "data": {
            "text/html": [
              "<div>\n",
              "<style scoped>\n",
              "    .dataframe tbody tr th:only-of-type {\n",
              "        vertical-align: middle;\n",
              "    }\n",
              "\n",
              "    .dataframe tbody tr th {\n",
              "        vertical-align: top;\n",
              "    }\n",
              "\n",
              "    .dataframe thead th {\n",
              "        text-align: right;\n",
              "    }\n",
              "</style>\n",
              "<table border=\"1\" class=\"dataframe\">\n",
              "  <thead>\n",
              "    <tr style=\"text-align: right;\">\n",
              "      <th></th>\n",
              "      <th>COLUMN NAME</th>\n",
              "      <th>MISSING VALUES</th>\n",
              "      <th>TOTAL ROWS</th>\n",
              "      <th>% MISSING</th>\n",
              "    </tr>\n",
              "  </thead>\n",
              "  <tbody>\n",
              "    <tr>\n",
              "      <th>0</th>\n",
              "      <td>salary</td>\n",
              "      <td>0</td>\n",
              "      <td>146</td>\n",
              "      <td>0.0</td>\n",
              "    </tr>\n",
              "    <tr>\n",
              "      <th>1</th>\n",
              "      <td>to_messages</td>\n",
              "      <td>0</td>\n",
              "      <td>146</td>\n",
              "      <td>0.0</td>\n",
              "    </tr>\n",
              "    <tr>\n",
              "      <th>2</th>\n",
              "      <td>deferral_payments</td>\n",
              "      <td>0</td>\n",
              "      <td>146</td>\n",
              "      <td>0.0</td>\n",
              "    </tr>\n",
              "    <tr>\n",
              "      <th>3</th>\n",
              "      <td>total_payments</td>\n",
              "      <td>0</td>\n",
              "      <td>146</td>\n",
              "      <td>0.0</td>\n",
              "    </tr>\n",
              "    <tr>\n",
              "      <th>4</th>\n",
              "      <td>loan_advances</td>\n",
              "      <td>0</td>\n",
              "      <td>146</td>\n",
              "      <td>0.0</td>\n",
              "    </tr>\n",
              "    <tr>\n",
              "      <th>5</th>\n",
              "      <td>bonus</td>\n",
              "      <td>0</td>\n",
              "      <td>146</td>\n",
              "      <td>0.0</td>\n",
              "    </tr>\n",
              "    <tr>\n",
              "      <th>6</th>\n",
              "      <td>email_address</td>\n",
              "      <td>0</td>\n",
              "      <td>146</td>\n",
              "      <td>0.0</td>\n",
              "    </tr>\n",
              "    <tr>\n",
              "      <th>7</th>\n",
              "      <td>restricted_stock_deferred</td>\n",
              "      <td>0</td>\n",
              "      <td>146</td>\n",
              "      <td>0.0</td>\n",
              "    </tr>\n",
              "    <tr>\n",
              "      <th>8</th>\n",
              "      <td>deferred_income</td>\n",
              "      <td>0</td>\n",
              "      <td>146</td>\n",
              "      <td>0.0</td>\n",
              "    </tr>\n",
              "    <tr>\n",
              "      <th>9</th>\n",
              "      <td>total_stock_value</td>\n",
              "      <td>0</td>\n",
              "      <td>146</td>\n",
              "      <td>0.0</td>\n",
              "    </tr>\n",
              "    <tr>\n",
              "      <th>10</th>\n",
              "      <td>expenses</td>\n",
              "      <td>0</td>\n",
              "      <td>146</td>\n",
              "      <td>0.0</td>\n",
              "    </tr>\n",
              "    <tr>\n",
              "      <th>11</th>\n",
              "      <td>from_poi_to_this_person</td>\n",
              "      <td>0</td>\n",
              "      <td>146</td>\n",
              "      <td>0.0</td>\n",
              "    </tr>\n",
              "    <tr>\n",
              "      <th>12</th>\n",
              "      <td>exercised_stock_options</td>\n",
              "      <td>0</td>\n",
              "      <td>146</td>\n",
              "      <td>0.0</td>\n",
              "    </tr>\n",
              "    <tr>\n",
              "      <th>13</th>\n",
              "      <td>from_messages</td>\n",
              "      <td>0</td>\n",
              "      <td>146</td>\n",
              "      <td>0.0</td>\n",
              "    </tr>\n",
              "    <tr>\n",
              "      <th>14</th>\n",
              "      <td>other</td>\n",
              "      <td>0</td>\n",
              "      <td>146</td>\n",
              "      <td>0.0</td>\n",
              "    </tr>\n",
              "    <tr>\n",
              "      <th>15</th>\n",
              "      <td>from_this_person_to_poi</td>\n",
              "      <td>0</td>\n",
              "      <td>146</td>\n",
              "      <td>0.0</td>\n",
              "    </tr>\n",
              "    <tr>\n",
              "      <th>16</th>\n",
              "      <td>poi</td>\n",
              "      <td>0</td>\n",
              "      <td>146</td>\n",
              "      <td>0.0</td>\n",
              "    </tr>\n",
              "    <tr>\n",
              "      <th>17</th>\n",
              "      <td>long_term_incentive</td>\n",
              "      <td>0</td>\n",
              "      <td>146</td>\n",
              "      <td>0.0</td>\n",
              "    </tr>\n",
              "    <tr>\n",
              "      <th>18</th>\n",
              "      <td>shared_receipt_with_poi</td>\n",
              "      <td>0</td>\n",
              "      <td>146</td>\n",
              "      <td>0.0</td>\n",
              "    </tr>\n",
              "    <tr>\n",
              "      <th>19</th>\n",
              "      <td>restricted_stock</td>\n",
              "      <td>0</td>\n",
              "      <td>146</td>\n",
              "      <td>0.0</td>\n",
              "    </tr>\n",
              "    <tr>\n",
              "      <th>20</th>\n",
              "      <td>director_fees</td>\n",
              "      <td>0</td>\n",
              "      <td>146</td>\n",
              "      <td>0.0</td>\n",
              "    </tr>\n",
              "  </tbody>\n",
              "</table>\n",
              "</div>"
            ],
            "text/plain": [
              "                  COLUMN NAME  MISSING VALUES  TOTAL ROWS  % MISSING\n",
              "0                      salary               0         146        0.0\n",
              "1                 to_messages               0         146        0.0\n",
              "2           deferral_payments               0         146        0.0\n",
              "3              total_payments               0         146        0.0\n",
              "4               loan_advances               0         146        0.0\n",
              "5                       bonus               0         146        0.0\n",
              "6               email_address               0         146        0.0\n",
              "7   restricted_stock_deferred               0         146        0.0\n",
              "8             deferred_income               0         146        0.0\n",
              "9           total_stock_value               0         146        0.0\n",
              "10                   expenses               0         146        0.0\n",
              "11    from_poi_to_this_person               0         146        0.0\n",
              "12    exercised_stock_options               0         146        0.0\n",
              "13              from_messages               0         146        0.0\n",
              "14                      other               0         146        0.0\n",
              "15    from_this_person_to_poi               0         146        0.0\n",
              "16                        poi               0         146        0.0\n",
              "17        long_term_incentive               0         146        0.0\n",
              "18    shared_receipt_with_poi               0         146        0.0\n",
              "19           restricted_stock               0         146        0.0\n",
              "20              director_fees               0         146        0.0"
            ]
          },
          "metadata": {
            "tags": []
          },
          "execution_count": 11
        }
      ]
    },
    {
      "cell_type": "code",
      "metadata": {
        "id": "Aml8oOTSFo2s"
      },
      "source": [
        "Df = Df.replace('NaN', np.nan)"
      ],
      "execution_count": 12,
      "outputs": []
    },
    {
      "cell_type": "code",
      "metadata": {
        "colab": {
          "base_uri": "https://localhost:8080/",
          "height": 700
        },
        "id": "j916NM8VFxoh",
        "outputId": "57ae1e80-f48e-4665-b49b-78e2a7e43156"
      },
      "source": [
        "missing_statistics(Df)"
      ],
      "execution_count": 13,
      "outputs": [
        {
          "output_type": "execute_result",
          "data": {
            "text/html": [
              "<div>\n",
              "<style scoped>\n",
              "    .dataframe tbody tr th:only-of-type {\n",
              "        vertical-align: middle;\n",
              "    }\n",
              "\n",
              "    .dataframe tbody tr th {\n",
              "        vertical-align: top;\n",
              "    }\n",
              "\n",
              "    .dataframe thead th {\n",
              "        text-align: right;\n",
              "    }\n",
              "</style>\n",
              "<table border=\"1\" class=\"dataframe\">\n",
              "  <thead>\n",
              "    <tr style=\"text-align: right;\">\n",
              "      <th></th>\n",
              "      <th>COLUMN NAME</th>\n",
              "      <th>MISSING VALUES</th>\n",
              "      <th>TOTAL ROWS</th>\n",
              "      <th>% MISSING</th>\n",
              "    </tr>\n",
              "  </thead>\n",
              "  <tbody>\n",
              "    <tr>\n",
              "      <th>0</th>\n",
              "      <td>salary</td>\n",
              "      <td>51</td>\n",
              "      <td>146</td>\n",
              "      <td>34.93</td>\n",
              "    </tr>\n",
              "    <tr>\n",
              "      <th>1</th>\n",
              "      <td>to_messages</td>\n",
              "      <td>60</td>\n",
              "      <td>146</td>\n",
              "      <td>41.10</td>\n",
              "    </tr>\n",
              "    <tr>\n",
              "      <th>2</th>\n",
              "      <td>deferral_payments</td>\n",
              "      <td>107</td>\n",
              "      <td>146</td>\n",
              "      <td>73.29</td>\n",
              "    </tr>\n",
              "    <tr>\n",
              "      <th>3</th>\n",
              "      <td>total_payments</td>\n",
              "      <td>21</td>\n",
              "      <td>146</td>\n",
              "      <td>14.38</td>\n",
              "    </tr>\n",
              "    <tr>\n",
              "      <th>4</th>\n",
              "      <td>loan_advances</td>\n",
              "      <td>142</td>\n",
              "      <td>146</td>\n",
              "      <td>97.26</td>\n",
              "    </tr>\n",
              "    <tr>\n",
              "      <th>5</th>\n",
              "      <td>bonus</td>\n",
              "      <td>64</td>\n",
              "      <td>146</td>\n",
              "      <td>43.84</td>\n",
              "    </tr>\n",
              "    <tr>\n",
              "      <th>6</th>\n",
              "      <td>email_address</td>\n",
              "      <td>35</td>\n",
              "      <td>146</td>\n",
              "      <td>23.97</td>\n",
              "    </tr>\n",
              "    <tr>\n",
              "      <th>7</th>\n",
              "      <td>restricted_stock_deferred</td>\n",
              "      <td>128</td>\n",
              "      <td>146</td>\n",
              "      <td>87.67</td>\n",
              "    </tr>\n",
              "    <tr>\n",
              "      <th>8</th>\n",
              "      <td>deferred_income</td>\n",
              "      <td>97</td>\n",
              "      <td>146</td>\n",
              "      <td>66.44</td>\n",
              "    </tr>\n",
              "    <tr>\n",
              "      <th>9</th>\n",
              "      <td>total_stock_value</td>\n",
              "      <td>20</td>\n",
              "      <td>146</td>\n",
              "      <td>13.70</td>\n",
              "    </tr>\n",
              "    <tr>\n",
              "      <th>10</th>\n",
              "      <td>expenses</td>\n",
              "      <td>51</td>\n",
              "      <td>146</td>\n",
              "      <td>34.93</td>\n",
              "    </tr>\n",
              "    <tr>\n",
              "      <th>11</th>\n",
              "      <td>from_poi_to_this_person</td>\n",
              "      <td>60</td>\n",
              "      <td>146</td>\n",
              "      <td>41.10</td>\n",
              "    </tr>\n",
              "    <tr>\n",
              "      <th>12</th>\n",
              "      <td>exercised_stock_options</td>\n",
              "      <td>44</td>\n",
              "      <td>146</td>\n",
              "      <td>30.14</td>\n",
              "    </tr>\n",
              "    <tr>\n",
              "      <th>13</th>\n",
              "      <td>from_messages</td>\n",
              "      <td>60</td>\n",
              "      <td>146</td>\n",
              "      <td>41.10</td>\n",
              "    </tr>\n",
              "    <tr>\n",
              "      <th>14</th>\n",
              "      <td>other</td>\n",
              "      <td>53</td>\n",
              "      <td>146</td>\n",
              "      <td>36.30</td>\n",
              "    </tr>\n",
              "    <tr>\n",
              "      <th>15</th>\n",
              "      <td>from_this_person_to_poi</td>\n",
              "      <td>60</td>\n",
              "      <td>146</td>\n",
              "      <td>41.10</td>\n",
              "    </tr>\n",
              "    <tr>\n",
              "      <th>16</th>\n",
              "      <td>poi</td>\n",
              "      <td>0</td>\n",
              "      <td>146</td>\n",
              "      <td>0.00</td>\n",
              "    </tr>\n",
              "    <tr>\n",
              "      <th>17</th>\n",
              "      <td>long_term_incentive</td>\n",
              "      <td>80</td>\n",
              "      <td>146</td>\n",
              "      <td>54.79</td>\n",
              "    </tr>\n",
              "    <tr>\n",
              "      <th>18</th>\n",
              "      <td>shared_receipt_with_poi</td>\n",
              "      <td>60</td>\n",
              "      <td>146</td>\n",
              "      <td>41.10</td>\n",
              "    </tr>\n",
              "    <tr>\n",
              "      <th>19</th>\n",
              "      <td>restricted_stock</td>\n",
              "      <td>36</td>\n",
              "      <td>146</td>\n",
              "      <td>24.66</td>\n",
              "    </tr>\n",
              "    <tr>\n",
              "      <th>20</th>\n",
              "      <td>director_fees</td>\n",
              "      <td>129</td>\n",
              "      <td>146</td>\n",
              "      <td>88.36</td>\n",
              "    </tr>\n",
              "  </tbody>\n",
              "</table>\n",
              "</div>"
            ],
            "text/plain": [
              "                  COLUMN NAME  MISSING VALUES  TOTAL ROWS  % MISSING\n",
              "0                      salary              51         146      34.93\n",
              "1                 to_messages              60         146      41.10\n",
              "2           deferral_payments             107         146      73.29\n",
              "3              total_payments              21         146      14.38\n",
              "4               loan_advances             142         146      97.26\n",
              "5                       bonus              64         146      43.84\n",
              "6               email_address              35         146      23.97\n",
              "7   restricted_stock_deferred             128         146      87.67\n",
              "8             deferred_income              97         146      66.44\n",
              "9           total_stock_value              20         146      13.70\n",
              "10                   expenses              51         146      34.93\n",
              "11    from_poi_to_this_person              60         146      41.10\n",
              "12    exercised_stock_options              44         146      30.14\n",
              "13              from_messages              60         146      41.10\n",
              "14                      other              53         146      36.30\n",
              "15    from_this_person_to_poi              60         146      41.10\n",
              "16                        poi               0         146       0.00\n",
              "17        long_term_incentive              80         146      54.79\n",
              "18    shared_receipt_with_poi              60         146      41.10\n",
              "19           restricted_stock              36         146      24.66\n",
              "20              director_fees             129         146      88.36"
            ]
          },
          "metadata": {
            "tags": []
          },
          "execution_count": 13
        }
      ]
    },
    {
      "cell_type": "code",
      "metadata": {
        "id": "2nOBlKhxGl-T"
      },
      "source": [
        "def featureFormat( dictionary, features, remove_NaN=True, remove_all_zeroes=True, remove_any_zeroes=False, sort_keys = False):\r\n",
        "    \"\"\" convert dictionary to numpy array of features\r\n",
        "        remove_NaN = True will convert \"NaN\" string to 0.0\r\n",
        "        remove_all_zeroes = True will omit any data points for which\r\n",
        "            all the features you seek are 0.0\r\n",
        "        remove_any_zeroes = True will omit any data points for which\r\n",
        "            any of the features you seek are 0.0\r\n",
        "        sort_keys = True sorts keys by alphabetical order. Setting the value as\r\n",
        "            a string opens the corresponding pickle file with a preset key\r\n",
        "            order (this is used for Python 3 compatibility, and sort_keys\r\n",
        "            should be left as False for the course mini-projects).\r\n",
        "        NOTE: first feature is assumed to be 'poi' and is not checked for\r\n",
        "            removal for zero or missing values.\r\n",
        "    \"\"\"\r\n",
        "\r\n",
        "\r\n",
        "    return_list = []\r\n",
        "\r\n",
        "    # Key order - first branch is for Python 3 compatibility on mini-projects,\r\n",
        "    # second branch is for compatibility on final project.\r\n",
        "    if isinstance(sort_keys, str):\r\n",
        "        import pickle\r\n",
        "        keys = pickle.load(open(sort_keys, \"rb\"))\r\n",
        "    elif sort_keys:\r\n",
        "        keys = sorted(dictionary.keys())\r\n",
        "    else:\r\n",
        "        keys = dictionary.keys()\r\n",
        "\r\n",
        "    for key in keys:\r\n",
        "        tmp_list = []\r\n",
        "        for feature in features:\r\n",
        "            try:\r\n",
        "                dictionary[key][feature]\r\n",
        "            except KeyError:\r\n",
        "                print(\"error: key \", feature, \" not present\")\r\n",
        "                return\r\n",
        "            value = dictionary[key][feature]\r\n",
        "            if value==\"NaN\" and remove_NaN:\r\n",
        "                value = 0\r\n",
        "            tmp_list.append( float(value) )\r\n",
        "\r\n",
        "        # Logic for deciding whether or not to add the data point.\r\n",
        "        append = True\r\n",
        "        # exclude 'poi' class as criteria.\r\n",
        "        if features[0] == 'poi':\r\n",
        "            test_list = tmp_list[1:]\r\n",
        "        else:\r\n",
        "            test_list = tmp_list\r\n",
        "        ### if all features are zero and you want to remove\r\n",
        "        ### data points that are all zero, do that here\r\n",
        "        if remove_all_zeroes:\r\n",
        "            append = False\r\n",
        "            for item in test_list:\r\n",
        "                if item != 0 and item != \"NaN\":\r\n",
        "                    append = True\r\n",
        "                    break\r\n",
        "        ### if any features for a given data point are zero\r\n",
        "        ### and you want to remove data points with any zeroes,\r\n",
        "        ### handle that here\r\n",
        "        if remove_any_zeroes:\r\n",
        "            if 0 in test_list or \"NaN\" in test_list:\r\n",
        "                append = False\r\n",
        "        ### Append the data point if flagged for addition.\r\n",
        "        if append:\r\n",
        "            return_list.append( np.array(tmp_list) )\r\n",
        "\r\n",
        "    return np.array(return_list)"
      ],
      "execution_count": 14,
      "outputs": []
    },
    {
      "cell_type": "code",
      "metadata": {
        "id": "FTWfq0kdGydD"
      },
      "source": [
        "def targetFeatureSplit( data ):\r\n",
        "    \"\"\" \r\n",
        "        given a numpy array like the one returned from\r\n",
        "        featureFormat, separate out the first feature\r\n",
        "        and put it into its own list (this should be the \r\n",
        "        quantity you want to predict)\r\n",
        "\r\n",
        "        return targets and features as separate lists\r\n",
        "\r\n",
        "        (sklearn can generally handle both lists and numpy arrays as \r\n",
        "        input formats when training/predicting)\r\n",
        "    \"\"\"\r\n",
        "\r\n",
        "    target = []\r\n",
        "    features = []\r\n",
        "    for item in data:\r\n",
        "        target.append( item[0] )\r\n",
        "        features.append( item[1:] )\r\n",
        "\r\n",
        "    return target, features\r\n"
      ],
      "execution_count": 15,
      "outputs": []
    },
    {
      "cell_type": "code",
      "metadata": {
        "id": "n5ojXqdcHAwy"
      },
      "source": [
        "my_dataset = data_dict"
      ],
      "execution_count": 16,
      "outputs": []
    },
    {
      "cell_type": "code",
      "metadata": {
        "colab": {
          "base_uri": "https://localhost:8080/",
          "height": 294
        },
        "id": "eZlxtpXfF25j",
        "outputId": "6d460d9a-9076-452c-b365-6a1103b8ef3c"
      },
      "source": [
        "import seaborn as sns\r\n",
        "%matplotlib inline\r\n",
        "\r\n",
        "features = ['salary', 'bonus']\r\n",
        "data = featureFormat(my_dataset, features)\r\n",
        "\r\n",
        "for person in data:\r\n",
        "    salary = person[0]\r\n",
        "    bonus = person[1]\r\n",
        "    plt.scatter(salary, bonus)\r\n",
        "    plt.title('Salary vs Bonus')"
      ],
      "execution_count": 17,
      "outputs": [
        {
          "output_type": "display_data",
          "data": {
            "image/png": "[encoded data removed]",
            "text/plain": [
              "<Figure size 432x288 with 1 Axes>"
            ]
          },
          "metadata": {
            "tags": [],
            "needs_background": "light"
          }
        }
      ]
    },
    {
      "cell_type": "code",
      "metadata": {
        "colab": {
          "base_uri": "https://localhost:8080/"
        },
        "id": "uqdr54fjHboS",
        "outputId": "7173b096-881f-4a74-b3a0-51150798d5d4"
      },
      "source": [
        "outlier = max(data,key=lambda item:item[1])\r\n",
        "print (outlier)\r\n",
        "\r\n",
        "for person in my_dataset:\r\n",
        "    if my_dataset[person]['salary'] == outlier[0] and my_dataset[person]['bonus'] == outlier[1]:\r\n",
        "        print (person)"
      ],
      "execution_count": 18,
      "outputs": [
        {
          "output_type": "stream",
          "text": [
            "[26704229. 97343619.]\n",
            "TOTAL\n"
          ],
          "name": "stdout"
        }
      ]
    },
    {
      "cell_type": "code",
      "metadata": {
        "id": "FZNxJqriHgES"
      },
      "source": [
        "my_dataset.pop('TOTAL', 0) #remove outlier\r\n",
        "data = featureFormat(my_dataset, features)"
      ],
      "execution_count": 19,
      "outputs": []
    },
    {
      "cell_type": "code",
      "metadata": {
        "id": "L5Vyx_BrH76p"
      },
      "source": [
        "#Create New features\r\n",
        "for person in my_dataset:\r\n",
        "    if my_dataset[person]['from_poi_to_this_person'] != 'NaN' and my_dataset[person]['from_this_person_to_poi'] != 'NaN':\r\n",
        "        my_dataset[person]['from_poi_ratio'] = my_dataset[person]['from_poi_to_this_person'] / my_dataset[person]['to_messages']\r\n",
        "        my_dataset[person]['to_poi_ratio'] = my_dataset[person]['from_this_person_to_poi'] / my_dataset[person]['from_messages']\r\n",
        "    else:\r\n",
        "        my_dataset[person]['from_poi_ratio'] = 'NaN'\r\n",
        "        my_dataset[person]['to_poi_ratio'] = 'NaN'"
      ],
      "execution_count": 20,
      "outputs": []
    },
    {
      "cell_type": "code",
      "metadata": {
        "colab": {
          "base_uri": "https://localhost:8080/",
          "height": 296
        },
        "id": "nemhitr_IA_C",
        "outputId": "2efdd11b-6691-442f-d712-ab78eb31dd64"
      },
      "source": [
        "#POI vs NON-POI\r\n",
        "features = ['poi', 'from_poi_ratio', 'to_poi_ratio']\r\n",
        "data = featureFormat(my_dataset, features)\r\n",
        "\r\n",
        "for person in data:\r\n",
        "    x = person[1]\r\n",
        "    y = person[2]\r\n",
        "    if person[0] == 0:\r\n",
        "        plt.scatter(x, y, color='black', alpha=0.5)\r\n",
        "    else:\r\n",
        "        plt.scatter(x, y, color='r')\r\n",
        "        \r\n",
        "plt.xlabel('Fraction of emails received from POIs')\r\n",
        "plt.ylabel('Fraction of emails sent to POIs')"
      ],
      "execution_count": 21,
      "outputs": [
        {
          "output_type": "execute_result",
          "data": {
            "text/plain": [
              "Text(0, 0.5, 'Fraction of emails sent to POIs')"
            ]
          },
          "metadata": {
            "tags": []
          },
          "execution_count": 21
        },
        {
          "output_type": "display_data",
          "data": {
            "image/png": "[encoded data removed]",
            "text/plain": [
              "<Figure size 432x288 with 1 Axes>"
            ]
          },
          "metadata": {
            "tags": [],
            "needs_background": "light"
          }
        }
      ]
    },
    {
      "cell_type": "code",
      "metadata": {
        "id": "tmNCF1_2IXHK"
      },
      "source": [
        "features_list = ['poi', 'salary', 'bonus', 'deferral_payments', 'total_payments', 'loan_advances', \r\n",
        "                 'restricted_stock_deferred', 'deferred_income', 'total_stock_value', 'expenses', \r\n",
        "                 'exercised_stock_options', 'long_term_incentive', 'restricted_stock', 'director_fees',\r\n",
        "                 'shared_receipt_with_poi', 'from_poi_ratio', 'to_poi_ratio']\r\n",
        "\r\n",
        "data = featureFormat(my_dataset, features_list)\r\n",
        "y, x = targetFeatureSplit(data)"
      ],
      "execution_count": 22,
      "outputs": []
    },
    {
      "cell_type": "code",
      "metadata": {
        "colab": {
          "base_uri": "https://localhost:8080/"
        },
        "id": "Jv5VZdkyIziL",
        "outputId": "aa113c07-d94a-4114-f600-caf244b6f369"
      },
      "source": [
        "from sklearn.metrics import precision_score, recall_score\r\n",
        "from sklearn.model_selection import train_test_split\r\n",
        "\r\n",
        "X_train, X_test, y_train, y_test = train_test_split(x, y, test_size=0.3, random_state=42)\r\n",
        "                                                                            \r\n",
        "from sklearn.naive_bayes import GaussianNB\r\n",
        "clf = GaussianNB()\r\n",
        "clf.fit(X_train, y_train)\r\n",
        "gnb_pred = clf.predict(X_test)\r\n",
        "gnb_score = clf.score(X_test, y_test)\r\n",
        "gnb_precision = precision_score(y_test, gnb_pred)\r\n",
        "gnb_recall = recall_score(y_test, gnb_pred)\r\n",
        "print ('GaussianNB accuracy:', gnb_score)\r\n",
        "print ('GaussianNB precision:', gnb_precision)\r\n",
        "print ('GaussianNB recall:', gnb_recall, '\\n')\r\n",
        "\r\n",
        "\r\n",
        "from sklearn.tree import DecisionTreeClassifier\r\n",
        "clf = DecisionTreeClassifier(random_state=0)\r\n",
        "fit = clf.fit(X_train, y_train)\r\n",
        "dt_pred = clf.predict(X_test, y_test)\r\n",
        "dt_score = clf.score(X_test, y_test)\r\n",
        "dt_precision = precision_score(y_test, dt_pred)\r\n",
        "dt_recall = recall_score(y_test, dt_pred)\r\n",
        "print ('Decision Tree accuracy:', dt_score)\r\n",
        "print ('Decision Tree precision:', dt_precision)\r\n",
        "print ('Decision Tree recall:', dt_recall, '\\n')\r\n",
        "\r\n",
        "\r\n",
        "from sklearn.svm import SVC\r\n",
        "clf = SVC(random_state=0)\r\n",
        "fit = clf.fit(X_train, y_train)\r\n",
        "svc_pred = clf.predict(X_test)\r\n",
        "svc_score = clf.score(X_test, y_test)\r\n",
        "svc_precision = precision_score(y_test, svc_pred)\r\n",
        "svc_recall = recall_score(y_test, svc_pred)\r\n",
        "print ('SVC accuracy:', svc_score)\r\n",
        "print ('SVC precision:', svc_precision)\r\n",
        "print ('SVC recall:', svc_recall, '\\n')\r\n",
        "\r\n",
        "\r\n",
        "from sklearn.ensemble import RandomForestClassifier\r\n",
        "clf = RandomForestClassifier(random_state=0)\r\n",
        "fit = clf.fit(X_train, y_train)\r\n",
        "rf_pred = clf.predict(X_test)\r\n",
        "rf_score = clf.score(X_test, y_test)\r\n",
        "rf_precision = precision_score(y_test, rf_pred)\r\n",
        "rf_recall = recall_score(y_test, rf_pred)\r\n",
        "print ('Random Forest accuracy:', rf_score)\r\n",
        "print ('Random Forest precision:', rf_precision)\r\n",
        "print ('Random Forest recall:', rf_recall, '\\n')\r\n"
      ],
      "execution_count": 23,
      "outputs": [
        {
          "output_type": "stream",
          "text": [
            "GaussianNB accuracy: 0.22727272727272727\n",
            "GaussianNB precision: 0.10810810810810811\n",
            "GaussianNB recall: 0.8 \n",
            "\n",
            "Decision Tree accuracy: 0.7045454545454546\n",
            "Decision Tree precision: 0.21428571428571427\n",
            "Decision Tree recall: 0.6 \n",
            "\n",
            "SVC accuracy: 0.8863636363636364\n",
            "SVC precision: 0.0\n",
            "SVC recall: 0.0 \n",
            "\n",
            "Random Forest accuracy: 0.9318181818181818\n",
            "Random Forest precision: 0.75\n",
            "Random Forest recall: 0.6 \n",
            "\n"
          ],
          "name": "stdout"
        }
      ]
    },
    {
      "cell_type": "code",
      "metadata": {
        "colab": {
          "base_uri": "https://localhost:8080/"
        },
        "id": "cYDQEbUBLnTf",
        "outputId": "4bec923a-d47a-4623-dfd5-ba07d60cbbe8"
      },
      "source": [
        "#Feature Selection\r\n",
        "#Selecting best features\r\n",
        "from sklearn.feature_selection import SelectKBest, f_classif\r\n",
        "\r\n",
        "kbest = SelectKBest(f_classif, k=5)\r\n",
        "features_selected = kbest.fit_transform(X_train, y_train)\r\n",
        "print(features_selected.shape)\r\n",
        "\r\n",
        "final_features = [features_list[i+1] for i in kbest.get_support(indices=True)]\r\n",
        "print('Features selected by SelectKBest:')\r\n",
        "print(final_features)"
      ],
      "execution_count": 24,
      "outputs": [
        {
          "output_type": "stream",
          "text": [
            "(100, 5)\n",
            "Features selected by SelectKBest:\n",
            "['bonus', 'total_stock_value', 'expenses', 'exercised_stock_options', 'to_poi_ratio']\n"
          ],
          "name": "stdout"
        }
      ]
    },
    {
      "cell_type": "code",
      "metadata": {
        "colab": {
          "base_uri": "https://localhost:8080/"
        },
        "id": "WbH7K1wEMve0",
        "outputId": "37d4f0af-4529-465d-c108-6a013b13c398"
      },
      "source": [
        "#Using Best Features\r\n",
        "features_select = ['poi', 'bonus', 'total_stock_value', 'expenses', 'exercised_stock_options', 'to_poi_ratio']\r\n",
        "data = featureFormat(my_dataset, features_select)\r\n",
        "y, x = targetFeatureSplit(data)\r\n",
        "X_train, X_test, y_train, y_test = train_test_split(x, y,  test_size=0.3, random_state=42)\r\n",
        "                                                                           \r\n",
        "\r\n",
        "from sklearn.naive_bayes import GaussianNB\r\n",
        "clf = GaussianNB()\r\n",
        "clf.fit(X_train, y_train)\r\n",
        "gnb_pred = clf.predict(X_test)\r\n",
        "gnb_score = clf.score(X_test, y_test)\r\n",
        "gnb_precision = precision_score(y_test, gnb_pred)\r\n",
        "gnb_recall = recall_score(y_test, gnb_pred)\r\n",
        "print ('GaussianNB accuracy:', gnb_score)\r\n",
        "print ('GaussianNB precision:', gnb_precision)\r\n",
        "print ('GaussianNB recall:', gnb_recall, '\\n')\r\n",
        "\r\n",
        "\r\n",
        "clf = DecisionTreeClassifier(random_state=0)\r\n",
        "fit = clf.fit(X_train, y_train)\r\n",
        "dt_pred = clf.predict(X_test, y_test)\r\n",
        "dt_score = clf.score(X_test, y_test)\r\n",
        "dt_precision = precision_score(y_test, dt_pred)\r\n",
        "dt_recall = recall_score(y_test, dt_pred)\r\n",
        "print ('Decision Tree accuracy:', dt_score)\r\n",
        "print ('Decision Tree precision:', dt_precision)\r\n",
        "print ('Decision Tree recall:', dt_recall, '\\n')\r\n",
        "\r\n",
        "\r\n",
        "from sklearn.ensemble import RandomForestClassifier\r\n",
        "clf = RandomForestClassifier(random_state=0)\r\n",
        "fit = clf.fit(X_train, y_train)\r\n",
        "rf_pred = clf.predict(X_test)\r\n",
        "rf_score = clf.score(X_test, y_test)\r\n",
        "rf_precision = precision_score(y_test, rf_pred)\r\n",
        "rf_recall = recall_score(y_test, rf_pred)\r\n",
        "print ('Random Forest accuracy:', rf_score)\r\n",
        "print ('Random Forest precision:', rf_precision)\r\n",
        "print ('Random Forest recall:', rf_recall, '\\n')\r\n",
        "\r\n",
        "from sklearn.svm import SVC\r\n",
        "clf = SVC(random_state=0)\r\n",
        "fit = clf.fit(X_train, y_train)\r\n",
        "svc_pred = clf.predict(X_test)\r\n",
        "svc_score = clf.score(X_test, y_test)\r\n",
        "svc_precision = precision_score(y_test, svc_pred)\r\n",
        "svc_recall = recall_score(y_test, svc_pred)\r\n",
        "print ('SVC accuracy:', svc_score)\r\n",
        "print ('SVC precision:', svc_precision)\r\n",
        "print ('SVC recall:', svc_recall, '\\n')"
      ],
      "execution_count": 27,
      "outputs": [
        {
          "output_type": "stream",
          "text": [
            "GaussianNB accuracy: 0.8571428571428571\n",
            "GaussianNB precision: 0.6666666666666666\n",
            "GaussianNB recall: 0.5 \n",
            "\n",
            "Decision Tree accuracy: 0.8095238095238095\n",
            "Decision Tree precision: 0.5\n",
            "Decision Tree recall: 0.125 \n",
            "\n",
            "Random Forest accuracy: 0.8095238095238095\n",
            "Random Forest precision: 0.0\n",
            "Random Forest recall: 0.0 \n",
            "\n",
            "SVC accuracy: 0.8095238095238095\n",
            "SVC precision: 0.0\n",
            "SVC recall: 0.0 \n",
            "\n"
          ],
          "name": "stdout"
        }
      ]
    },
    {
      "cell_type": "code",
      "metadata": {
        "id": "WMmCVoSgOUH-"
      },
      "source": [
        "#Reset feature list\r\n",
        "#precision and recall are key metrics to be used\r\n",
        "#Use SelectKBest to choose best features\r\n",
        "features_list = ['poi', 'salary', 'bonus', 'deferral_payments', 'total_payments', 'loan_advances', \r\n",
        "                 'restricted_stock_deferred', 'deferred_income', 'total_stock_value', 'expenses', \r\n",
        "                 'exercised_stock_options', 'long_term_incentive', 'restricted_stock', 'director_fees',\r\n",
        "                 'shared_receipt_with_poi', 'from_poi_ratio', 'to_poi_ratio']\r\n",
        "data = featureFormat(my_dataset, features_list)\r\n",
        "labels, features = targetFeatureSplit(data)\r\n",
        "X_train, X_test, y_train, y_test = train_test_split(x, y,test_size=0.3, random_state=42)\r\n",
        "                                                                            "
      ],
      "execution_count": 26,
      "outputs": []
    },
    {
      "cell_type": "code",
      "metadata": {
        "id": "3xIcRjB9XUEN"
      },
      "source": [
        "PERF_FORMAT_STRING = \"\\\r\n",
        "\\tAccuracy: {:>0.{display_precision}f}\\tPrecision: {:>0.{display_precision}f}\\t\\\r\n",
        "Recall: {:>0.{display_precision}f}\\tF1: {:>0.{display_precision}f}\\tF2: {:>0.{display_precision}f}\"\r\n",
        "RESULTS_FORMAT_STRING = \"\\tTotal predictions: {:4d}\\tTrue positives: {:4d}\\tFalse positives: {:4d}\\\r\n",
        "\\tFalse negatives: {:4d}\\tTrue negatives: {:4d}\""
      ],
      "execution_count": 28,
      "outputs": []
    },
    {
      "cell_type": "code",
      "metadata": {
        "id": "0_2OFyOWP2RN"
      },
      "source": [
        "def test_classifier(clf, dataset, feature_list, folds = 1000):\r\n",
        "    data = featureFormat(dataset, feature_list, sort_keys = True)\r\n",
        "    labels, features = targetFeatureSplit(data)\r\n",
        "    from sklearn.model_selection import StratifiedShuffleSplit\r\n",
        "    cv = StratifiedShuffleSplit(n_splits=folds, random_state=42)\r\n",
        "    true_negatives = 0\r\n",
        "    false_negatives = 0\r\n",
        "    true_positives = 0\r\n",
        "    false_positives = 0\r\n",
        "    for train_idx, test_idx in cv.split(features, labels): \r\n",
        "        features_train = []\r\n",
        "        features_test  = []\r\n",
        "        labels_train   = []\r\n",
        "        labels_test    = []\r\n",
        "        for ii in train_idx:\r\n",
        "            features_train.append( features[ii] )\r\n",
        "            labels_train.append( labels[ii] )\r\n",
        "        for jj in test_idx:\r\n",
        "            features_test.append( features[jj] )\r\n",
        "            labels_test.append( labels[jj] )\r\n",
        "        \r\n",
        "        ### fit the classifier using training set, and test on test set\r\n",
        "        clf.fit(features_train, labels_train)\r\n",
        "        predictions = clf.predict(features_test)\r\n",
        "        for prediction, truth in zip(predictions, labels_test):\r\n",
        "            if prediction == 0 and truth == 0:\r\n",
        "                true_negatives += 1\r\n",
        "            elif prediction == 0 and truth == 1:\r\n",
        "                false_negatives += 1\r\n",
        "            elif prediction == 1 and truth == 0:\r\n",
        "                false_positives += 1\r\n",
        "            elif prediction == 1 and truth == 1:\r\n",
        "                true_positives += 1\r\n",
        "            else:\r\n",
        "                print(\"Warning: Found a predicted label not == 0 or 1.\")\r\n",
        "                print(\"All predictions should take value 0 or 1.\")\r\n",
        "                print(\"Evaluating performance for processed predictions:\")\r\n",
        "                break\r\n",
        "    try:\r\n",
        "        total_predictions = true_negatives + false_negatives + false_positives + true_positives\r\n",
        "        accuracy = 1.0*(true_positives + true_negatives)/total_predictions\r\n",
        "        precision = 1.0*true_positives/(true_positives+false_positives)\r\n",
        "        recall = 1.0*true_positives/(true_positives+false_negatives)\r\n",
        "        f1 = 2.0 * true_positives/(2*true_positives + false_positives+false_negatives)\r\n",
        "        f2 = (1+2.0*2.0) * precision*recall/(4*precision + recall)\r\n",
        "        print(clf)\r\n",
        "        print(PERF_FORMAT_STRING.format(accuracy, precision, recall, f1, f2, display_precision = 5))\r\n",
        "        print(RESULTS_FORMAT_STRING.format(total_predictions, true_positives, false_positives, false_negatives, true_negatives))\r\n",
        "        print(\"\")\r\n",
        "    except:\r\n",
        "        print(\"Got a divide by zero when trying out:\", clf)\r\n",
        "        print(\"Precision or recall may be undefined due to a lack of true positive predicitons.\")"
      ],
      "execution_count": 29,
      "outputs": []
    },
    {
      "cell_type": "code",
      "metadata": {
        "colab": {
          "base_uri": "https://localhost:8080/"
        },
        "id": "QvpjhUPiPRpX",
        "outputId": "4b3547ec-0233-468c-ec4e-77a739a2cc57"
      },
      "source": [
        "#Using Naive Bayes\r\n",
        "from sklearn.model_selection import GridSearchCV, StratifiedShuffleSplit\r\n",
        "from sklearn.pipeline import Pipeline\r\n",
        "from sklearn.preprocessing import MinMaxScaler\r\n",
        "\r\n",
        "scaler = MinMaxScaler()\r\n",
        "select = SelectKBest()\r\n",
        "gnb = GaussianNB()\r\n",
        "\r\n",
        "steps = [('scaler', scaler),\r\n",
        "         ('feature_select', select),\r\n",
        "         ('classifier', gnb)]\r\n",
        "\r\n",
        "param_grid = {'feature_select__k': range(1,17)}\r\n",
        "sss = StratifiedShuffleSplit(100, test_size=0.3, random_state = 0)\r\n",
        "pipe = Pipeline(steps)\r\n",
        "gs = GridSearchCV(pipe, param_grid, cv=sss, scoring='f1')\r\n",
        "\r\n",
        "gs.fit(X_train, y_train)\r\n",
        "clf = gs.best_estimator_\r\n",
        "\r\n",
        "test_classifier(clf, my_dataset, features_list)"
      ],
      "execution_count": 30,
      "outputs": [
        {
          "output_type": "stream",
          "text": [
            "Pipeline(memory=None,\n",
            "         steps=[('scaler', MinMaxScaler(copy=True, feature_range=(0, 1))),\n",
            "                ('feature_select',\n",
            "                 SelectKBest(k=5,\n",
            "                             score_func=<function f_classif at 0x7fbcd7fe9e18>)),\n",
            "                ('classifier', GaussianNB(priors=None, var_smoothing=1e-09))],\n",
            "         verbose=False)\n",
            "\tAccuracy: 0.85153\tPrecision: 0.42928\tRecall: 0.34450\tF1: 0.38225\tF2: 0.35867\n",
            "\tTotal predictions: 15000\tTrue positives:  689\tFalse positives:  916\tFalse negatives: 1311\tTrue negatives: 12084\n",
            "\n"
          ],
          "name": "stdout"
        }
      ]
    },
    {
      "cell_type": "code",
      "metadata": {
        "id": "_VYbyjN-g31K"
      },
      "source": [
        "pickle.dump(data_dict, open(\"mydataset.pkl\", \"wb\") )\r\n",
        "pickle.dump(gnb, open(\"myclassifier.pkl\", \"wb\") )\r\n",
        "pickle.dump(features_list, open(\" myfeaturelist.pkl\", \"wb\") )"
      ],
      "execution_count": null,
      "outputs": []
    }
  ]
}